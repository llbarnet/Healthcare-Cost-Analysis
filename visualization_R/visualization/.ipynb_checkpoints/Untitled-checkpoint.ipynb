{
 "cells": [
  {
   "cell_type": "code",
   "execution_count": 11,
   "metadata": {},
   "outputs": [],
   "source": [
    "import pandas as pd\n",
    "import json"
   ]
  },
  {
   "cell_type": "code",
   "execution_count": 12,
   "metadata": {},
   "outputs": [],
   "source": [
    "def read_csv(file_name):\n",
    "    return pd.read_csv(file_name)"
   ]
  },
  {
   "cell_type": "code",
   "execution_count": 13,
   "metadata": {},
   "outputs": [],
   "source": [
    "def transform_condition(condition_name):\n",
    "    if condition_name == 'atrial_fib':\n",
    "        return \"Atrial Fibrillation\"\n",
    "    elif condition_name == 'chronic_kidney':\n",
    "        return \"Chronic Kidney Disease\"\n",
    "    elif condition_name == 'pulmonary':\n",
    "        return \"Obstructive Pulmonary Disease\"\n",
    "    elif condition_name == 'depression':\n",
    "        return \"Depression\"\n",
    "    elif condition_name == \"diabetes\":\n",
    "        return \"Diabetes\"\n",
    "    elif condition_name == 'ischemia':\n",
    "        return \"Ischemic Heart Disease\"\n",
    "    elif condition_name == 'hyperlip':\n",
    "        return \"Hyperlipidemia\"\n",
    "    elif condition_name == 'hypertension':\n",
    "        return 'Hyptertension'\n",
    "    elif condition_name == 'arthritis':\n",
    "        return 'Arthritis'\n",
    "    elif condition_name == 'psychotic':\n",
    "        return \"Mental Illness\"\n",
    "    elif condition_name == 'stroke':\n",
    "        return 'Stroke'\n",
    "    elif condition_name == 'asthma':\n",
    "        return 'Asthma'"
   ]
  },
  {
   "cell_type": "code",
   "execution_count": 14,
   "metadata": {},
   "outputs": [],
   "source": [
    "df = read_csv('finaldataset.csv')"
   ]
  },
  {
   "cell_type": "code",
   "execution_count": 20,
   "metadata": {},
   "outputs": [
    {
     "data": {
      "text/plain": [
       "array(['atrial_fib', 'chronic_kidney', 'pulmonary', 'depression',\n",
       "       'diabetes', 'ischemia', 'asthma', 'hyperlip', 'hypertension',\n",
       "       'arthritis', 'psychotic', 'stroke'], dtype=object)"
      ]
     },
     "execution_count": 20,
     "metadata": {},
     "output_type": "execute_result"
    }
   ],
   "source": [
    "df.condition.unique()"
   ]
  },
  {
   "cell_type": "code",
   "execution_count": 15,
   "metadata": {},
   "outputs": [
    {
     "data": {
      "text/plain": [
       "Index(['state', 'condition', 'year', 'current_cost', 'lower_bound',\n",
       "       'upper_bound'],\n",
       "      dtype='object')"
      ]
     },
     "execution_count": 15,
     "metadata": {},
     "output_type": "execute_result"
    }
   ],
   "source": [
    "df.columns"
   ]
  },
  {
   "cell_type": "code",
   "execution_count": 16,
   "metadata": {},
   "outputs": [],
   "source": [
    "num_rows = df.shape[0]\n",
    "json_objects = []"
   ]
  },
  {
   "cell_type": "code",
   "execution_count": 17,
   "metadata": {},
   "outputs": [],
   "source": [
    "for row_idx in range(num_rows):\n",
    "    single_point = {}\n",
    "    single_row = df.iloc[row_idx]\n",
    "    single_point['State'] = single_row.state\n",
    "    single_point['value'] = single_row.current_cost\n",
    "    single_point['CI_right'] = single_row.upper_bound\n",
    "    single_point['CI_left'] = single_row.lower_bound\n",
    "    single_point['year'] = str(single_row.year)\n",
    "    single_point['Condition'] = transform_condition(single_row.condition)\n",
    "    json_objects.append(single_point)"
   ]
  },
  {
   "cell_type": "code",
   "execution_count": 18,
   "metadata": {},
   "outputs": [
    {
     "data": {
      "text/plain": [
       "2198"
      ]
     },
     "execution_count": 18,
     "metadata": {},
     "output_type": "execute_result"
    }
   ],
   "source": [
    "len(json_objects)"
   ]
  },
  {
   "cell_type": "code",
   "execution_count": 19,
   "metadata": {},
   "outputs": [],
   "source": [
    "with open('result.json', 'w') as fp:\n",
    "    json.dump(json_objects, fp)"
   ]
  },
  {
   "cell_type": "code",
   "execution_count": null,
   "metadata": {},
   "outputs": [],
   "source": []
  }
 ],
 "metadata": {
  "kernelspec": {
   "display_name": "Python 3",
   "language": "python",
   "name": "python3"
  },
  "language_info": {
   "codemirror_mode": {
    "name": "ipython",
    "version": 3
   },
   "file_extension": ".py",
   "mimetype": "text/x-python",
   "name": "python",
   "nbconvert_exporter": "python",
   "pygments_lexer": "ipython3",
   "version": "3.7.4"
  }
 },
 "nbformat": 4,
 "nbformat_minor": 2
}
